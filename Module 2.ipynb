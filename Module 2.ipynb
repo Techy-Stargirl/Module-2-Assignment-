{
 "cells": [
  {
   "cell_type": "code",
   "execution_count": 1,
   "id": "24d52a21-4824-4ee8-9bf5-c34491a36edf",
   "metadata": {},
   "outputs": [],
   "source": [
    "# Import necessary libraries\n",
    "import numpy as np\n",
    "import pandas as pd\n",
    "import random"
   ]
  },
  {
   "cell_type": "code",
   "execution_count": 3,
   "id": "1f58456e-ba95-4f26-a607-6e770d82fdb9",
   "metadata": {},
   "outputs": [],
   "source": [
    "# Import the provided salary data into Jupyter Notebook\n",
    "df_total_salary = pd.read_csv(r\"C:\\Users\\AMLIT\\Downloads\\Total_Salary.csv\", low_memory=False)"
   ]
  },
  {
   "cell_type": "code",
   "execution_count": 5,
   "id": "4ee76e45-45e8-4827-b3c5-d3dc98fe3ef0",
   "metadata": {},
   "outputs": [
    {
     "name": "stdout",
     "output_type": "stream",
     "text": [
      "<class 'pandas.core.frame.DataFrame'>\n",
      "RangeIndex: 312882 entries, 0 to 312881\n",
      "Data columns (total 9 columns):\n",
      " #   Column            Non-Null Count   Dtype  \n",
      "---  ------            --------------   -----  \n",
      " 0   EmployeeName      312882 non-null  object \n",
      " 1   JobTitle          312882 non-null  object \n",
      " 2   BasePay           312882 non-null  object \n",
      " 3   OvertimePay       312882 non-null  object \n",
      " 4   OtherPay          312882 non-null  object \n",
      " 5   Benefits          312882 non-null  object \n",
      " 6   TotalPay          312882 non-null  float64\n",
      " 7   TotalPayBenefits  312882 non-null  float64\n",
      " 8   Year              312882 non-null  int64  \n",
      "dtypes: float64(2), int64(1), object(6)\n",
      "memory usage: 21.5+ MB\n"
     ]
    }
   ],
   "source": [
    "# Display dataset information\n",
    "df_total_salary.info()"
   ]
  },
  {
   "cell_type": "code",
   "execution_count": 7,
   "id": "4bd70f49-35f4-47cf-a6f5-af40fa0bd0da",
   "metadata": {},
   "outputs": [],
   "source": [
    "# Convert relevant columns to numeric data types\n",
    "salary_columns = ['BasePay', 'OvertimePay', 'OtherPay', 'Benefits', 'TotalPay', 'TotalPayBenefits']\n",
    "for col in salary_columns:\n",
    "    df_total_salary[col] = pd.to_numeric(df_total_salary[col], errors='coerce')"
   ]
  },
  {
   "cell_type": "code",
   "execution_count": 51,
   "id": "b3d303bd-e71f-4ded-bb76-e7ec28848aec",
   "metadata": {},
   "outputs": [],
   "source": [
    "# Function to get employee details\n",
    "def get_employee_details_safe(employee_name=None, df_total_salary=None, num_random=1):\n",
    "    try:\n",
    "        if df_total_salary is None or df_total_salary.empty:\n",
    "            return \"Employee database is empty or not provided.\"\n",
    "            \n",
    "        # Standardize the Name column (strip spaces & lowercase)\n",
    "        df_total_salary['EmployeeName'] = df_total_salary['EmployeeName'].astype(str).str.strip().str.lower()\n",
    "        \n",
    "        # If no name is provided, return a random employee\n",
    "        if employee_name is None:\n",
    "            if num_random > len(df_total_salary):\n",
    "                return f\"Only {len(df_total_salary)} employees available. Adjusting random selection.\"\n",
    "            \n",
    "            return df_total_salary.sample(n=num_random).to_dict(orient='records')\n",
    "\n",
    "        # Ensure 'employee_name' is string type and perform case-insensitive search\n",
    "        if not isinstance(employee_name, str):\n",
    "            return \"Invalid input: Employee name must be a string.\"\n",
    "\n",
    "        employee = df_total_salary[df_total_salary['EmployeeName'] == employee_name.lower()]\n",
    "\n",
    "        if employee.empty:\n",
    "            return \"Employee not found.\"\n",
    "        \n",
    "        return employee.to_dict(orient='records')\n",
    "\n",
    "    except Exception as e:\n",
    "        return str(e)"
   ]
  },
  {
   "cell_type": "code",
   "execution_count": 53,
   "id": "ecc22416-cc1d-44c8-a1fb-a356c0a442e0",
   "metadata": {},
   "outputs": [
    {
     "name": "stdout",
     "output_type": "stream",
     "text": [
      "[{'EmployeeName': 'david kushner', 'JobTitle': 'DEPUTY DIRECTOR OF INVESTMENTS', 'BasePay': 256576.96, 'OvertimePay': 0.0, 'OtherPay': 51322.5, 'Benefits': nan, 'TotalPay': 307899.46, 'TotalPayBenefits': 307899.46, 'Year': 2011}]\n"
     ]
    }
   ],
   "source": [
    "# Get details of a specific employee\n",
    "print(get_employee_details_safe(\"DAVID KUSHNER\", df_total_salary))"
   ]
  },
  {
   "cell_type": "code",
   "execution_count": 55,
   "id": "d8a7b1dc-db99-443a-ba5e-980c64a023ab",
   "metadata": {},
   "outputs": [
    {
     "name": "stdout",
     "output_type": "stream",
     "text": [
      "[{'EmployeeName': 'genevieve e valerio', 'JobTitle': 'Special Nurse', 'BasePay': 10832.4, 'OvertimePay': 0.0, 'OtherPay': 1940.82, 'Benefits': 2390.3, 'TotalPay': 12773.22, 'TotalPayBenefits': 15163.52, 'Year': 2013}]\n"
     ]
    }
   ],
   "source": [
    "# Get details of a random employee\n",
    "print(get_employee_details_safe(df_total_salary=df_total_salary))"
   ]
  },
  {
   "cell_type": "code",
   "execution_count": 57,
   "id": "8a6c27f9-9d84-4d07-9fb7-e88babf6e3ff",
   "metadata": {},
   "outputs": [
    {
     "name": "stdout",
     "output_type": "stream",
     "text": [
      "[{'EmployeeName': 'andrew j cecena', 'JobTitle': 'Public Svc Aide-Public Works', 'BasePay': 4408.0, 'OvertimePay': 0.0, 'OtherPay': 0.0, 'Benefits': 55.27, 'TotalPay': 4408.0, 'TotalPayBenefits': 4463.27, 'Year': 2015}, {'EmployeeName': 'arlette t smith', 'JobTitle': 'Protective Services Worker', 'BasePay': 95229.0, 'OvertimePay': 0.0, 'OtherPay': 648.0, 'Benefits': 32728.24, 'TotalPay': 95877.0, 'TotalPayBenefits': 128605.24, 'Year': 2013}, {'EmployeeName': 'sunny x lei', 'JobTitle': 'Transit Operator', 'BasePay': 17225.14, 'OvertimePay': 1238.55, 'OtherPay': 300.69, 'Benefits': 11247.0, 'TotalPay': 18764.38, 'TotalPayBenefits': 30011.38, 'Year': 2014}, {'EmployeeName': 'johnnie d walker', 'JobTitle': 'General Laborer', 'BasePay': 62466.21, 'OvertimePay': 4979.93, 'OtherPay': 1357.71, 'Benefits': 26308.2, 'TotalPay': 68803.85, 'TotalPayBenefits': 95112.05, 'Year': 2013}, {'EmployeeName': 'gregory a huie', 'JobTitle': 'Police Officer 3', 'BasePay': 121198.09, 'OvertimePay': 33619.14, 'OtherPay': 820.04, 'Benefits': 35404.81, 'TotalPay': 155637.27, 'TotalPayBenefits': 191042.08, 'Year': 2016}, {'EmployeeName': 'melody m hall', 'JobTitle': 'Transit Operator', 'BasePay': 64488.42, 'OvertimePay': 17444.65, 'OtherPay': 5258.58, 'Benefits': 34896.03, 'TotalPay': 87191.65, 'TotalPayBenefits': 122087.68, 'Year': 2014}, {'EmployeeName': 'jacqueline moskus', 'JobTitle': 'Psychiatric Social Worker', 'BasePay': 40106.1, 'OvertimePay': 0.0, 'OtherPay': 0.0, 'Benefits': 17628.67, 'TotalPay': 40106.1, 'TotalPayBenefits': 57734.77, 'Year': 2012}, {'EmployeeName': 'davidcresd alda', 'JobTitle': 'Stationary Engineer', 'BasePay': 85090.61, 'OvertimePay': 5161.32, 'OtherPay': 8509.06, 'Benefits': 33006.23, 'TotalPay': 98760.99, 'TotalPayBenefits': 131767.22, 'Year': 2015}, {'EmployeeName': 'oswald milan jr', 'JobTitle': 'Food Service Worker', 'BasePay': 3875.53, 'OvertimePay': 511.04, 'OtherPay': 243.58, 'Benefits': 2157.49, 'TotalPay': 4630.15, 'TotalPayBenefits': 6787.64, 'Year': 2016}, {'EmployeeName': 'thomas a bower', 'JobTitle': 'Assoc Engineer', 'BasePay': 104753.6, 'OvertimePay': 0.0, 'OtherPay': 221.33, 'Benefits': 32839.38, 'TotalPay': 104974.93, 'TotalPayBenefits': 137814.31, 'Year': 2015}]\n"
     ]
    }
   ],
   "source": [
    "# Get 10 random employees\n",
    "print(get_employee_details_safe(df_total_salary=df_total_salary, num_random=10))"
   ]
  },
  {
   "cell_type": "code",
   "execution_count": 65,
   "id": "a143db6f-1a14-46d7-a7ff-102fd7b2eb0f",
   "metadata": {},
   "outputs": [],
   "source": [
    "def export_employee_details(employee_name, df_total_salary):\n",
    "    \"\"\"\n",
    "    Exports employee details to a CSV file named \"Employee Profile.csv\".\n",
    "\n",
    "    Args:\n",
    "        employee_name (str): The name of the employee to export.\n",
    "        df_total_salary (pandas.DataFrame): The DataFrame containing employee data.\n",
    "    \"\"\"\n",
    "    \n",
    "    employee_details = get_employee_details_safe(employee_name=employee_name, df_total_salary=df_total_salary)\n",
    "    \n",
    "    if isinstance(employee_details, str):\n",
    "        print(employee_details)  # Print error message\n",
    "        return\n",
    "    \n",
    "    if not employee_details:\n",
    "        print(\"No employee details found.\")\n",
    "        return\n",
    "\n",
    "    df_employee = pd.DataFrame(employee_details)\n",
    "\n",
    "    try:\n",
    "        df_employee.to_csv(\"Employee Profile.csv\", index=False)\n",
    "        print(f\"Employee details for '{employee_name}' exported to 'Employee Profile.csv'\")\n",
    "    except Exception as e:\n",
    "        print(f\"Error exporting employee details: {e}\")"
   ]
  },
  {
   "cell_type": "code",
   "execution_count": 67,
   "id": "c5c058b2-3cf8-4f6f-bcc1-2d1101ff9540",
   "metadata": {},
   "outputs": [
    {
     "name": "stdout",
     "output_type": "stream",
     "text": [
      "Employee details for 'EDWARD HARRINGTON' exported to 'Employee Profile.csv'\n"
     ]
    }
   ],
   "source": [
    "export_employee_details('EDWARD HARRINGTON', df_total_salary)"
   ]
  },
  {
   "cell_type": "code",
   "execution_count": null,
   "id": "2cf67029-985c-48dd-a814-d87cc42d8974",
   "metadata": {},
   "outputs": [],
   "source": []
  }
 ],
 "metadata": {
  "kernelspec": {
   "display_name": "Python [conda env:base] *",
   "language": "python",
   "name": "conda-base-py"
  },
  "language_info": {
   "codemirror_mode": {
    "name": "ipython",
    "version": 3
   },
   "file_extension": ".py",
   "mimetype": "text/x-python",
   "name": "python",
   "nbconvert_exporter": "python",
   "pygments_lexer": "ipython3",
   "version": "3.12.7"
  }
 },
 "nbformat": 4,
 "nbformat_minor": 5
}
